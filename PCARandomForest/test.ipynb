{
 "cells": [
  {
   "attachments": {},
   "cell_type": "markdown",
   "metadata": {},
   "source": [
    "Includes"
   ]
  },
  {
   "cell_type": "code",
   "execution_count": null,
   "metadata": {},
   "outputs": [],
   "source": [
    "# import pandas as pd\n",
    "import numpy as np\n",
    "# import matplotlib.pyplot as plt\n",
    "from sklearn.ensemble import RandomForestClassifier\n",
    "from sklearn.neighbors import KNeighborsClassifier\n",
    "from sklearn.model_selection import train_test_split\n",
    "from sklearn.decomposition import PCA\n",
    "# import statsmodels.api as sm\n",
    "# import seaborn as sns\n",
    "# from sklearn.preprocessing import StandardScaler\n",
    "from sklearn.metrics import accuracy_score\n",
    "\n",
    "\n",
    "import cv2\n",
    "from random import randint\n",
    "from PIL import Image\n",
    "from os import listdir"
   ]
  },
  {
   "attachments": {},
   "cell_type": "markdown",
   "metadata": {},
   "source": [
    "Read training dataset"
   ]
  },
  {
   "cell_type": "code",
   "execution_count": null,
   "metadata": {},
   "outputs": [],
   "source": [
    "# def read_image(path: str) -> np.array:\n",
    "# \tim = Image.open(path)\n",
    "# \tim.thumbnail((200, 200), Image.LANCZOS)\n",
    "# \ttemp = np.asarray(im.convert('YCrCb'))\n",
    "# \treturn np.asarray(im.convert('YCrCb')).reshape(-1)\n",
    "count = 0\n",
    "def read_image(path: str) -> np.array:\n",
    "\tglobal count\n",
    "\tim = Image.open(path)\n",
    "\tim.thumbnail((200, 200), Image.LANCZOS)\n",
    "\ttemp = np.asarray(im.convert('YCbCr'))\n",
    "\tarr = np.zeros(temp.shape[0:2], dtype=np.uint8)\n",
    "\tcondition = np.logical_and(np.logical_and(temp[:,:,1] > 77, temp[:,:,1] < 140), np.logical_and(temp[:,:,2] > 137, temp[:,:,2] < 163))\n",
    "\tarr[condition] = 255\n",
    "\tif count < 10 and 50 < randint(0, 1000) < 55:\n",
    "\t\tcount += 1\n",
    "\t\tImage.fromarray(arr).save(f'{count}.jpg')\n",
    "\treturn arr.reshape(-1)\n",
    "\n",
    "def read_images(directory : str) -> np.array:\n",
    "\tarray = np.array([], dtype=np.int8).reshape(0, 22601)\n",
    "\t# array = np.array([], dtype=np.int8).reshape(0, 67801)\n",
    "\t# array = np.array([], dtype=np.int8).reshape(0, 46657)\n",
    "\tfor num in range(0,6):\n",
    "\t\tmen_dir = directory + f'men/{num}/'\n",
    "\t\twomen_dir = directory + f'Women/{num}/'\n",
    "\t\tnew_men = np.array([np.concatenate((np.asarray([num]), read_image(men_dir + file)), axis=0) for file in listdir(men_dir)])\n",
    "\t\tnew_women = np.array([np.concatenate((np.asarray([num]), read_image(women_dir + file)), axis=0) for file in listdir(women_dir)])\n",
    "\t\tarray = np.concatenate((array, new_men, new_women), axis=0)\n",
    "\treturn array\n",
    "\n",
    "dataset = read_images('../dataset/')"
   ]
  },
  {
   "cell_type": "code",
   "execution_count": null,
   "metadata": {},
   "outputs": [],
   "source": [
    "train, validation = train_test_split(dataset, test_size=0.1)\n",
    "X = train[:, 1:]\n",
    "y = train[:, 0]\n",
    "X_val = validation[:, 1:]\n",
    "y_val = validation[:, 0]"
   ]
  },
  {
   "attachments": {},
   "cell_type": "markdown",
   "metadata": {},
   "source": [
    "John's Code"
   ]
  },
  {
   "cell_type": "code",
   "execution_count": null,
   "metadata": {},
   "outputs": [],
   "source": [
    "def model_prediction(model, x_training, y_training, x_validation, y_validation):\n",
    "\tmodel.fit(x_training, y_training)\n",
    "\t\n",
    "\tprediction_training = model.predict(x_training)\n",
    "\tprediction_validation = model.predict(x_validation)\n",
    "\t\n",
    "\tacc_training = accuracy_score(y_training, prediction_training)\n",
    "\tacc_validation = accuracy_score(y_validation, prediction_validation)\n",
    "\t\n",
    "\tprint(\"Accuracuy Score Training: \", acc_training)\n",
    "\tprint(\"Accuracy Score Validation: \",acc_validation)"
   ]
  },
  {
   "attachments": {},
   "cell_type": "markdown",
   "metadata": {},
   "source": [
    "PCA"
   ]
  },
  {
   "cell_type": "code",
   "execution_count": null,
   "metadata": {},
   "outputs": [],
   "source": [
    "pca = PCA(n_components=20).fit(X)"
   ]
  },
  {
   "cell_type": "code",
   "execution_count": null,
   "metadata": {},
   "outputs": [],
   "source": [
    "print('Random forest')\n",
    "model_prediction(RandomForestClassifier(), pca.transform(X), y, pca.transform(X_val), y_val)\n",
    "print('KNN')\n",
    "model_prediction(KNeighborsClassifier(n_neighbors=3), pca.transform(X), y, pca.transform(X_val), y_val)"
   ]
  },
  {
   "cell_type": "code",
   "execution_count": null,
   "metadata": {},
   "outputs": [],
   "source": [
    "for i in range(10, 50, 2):\n",
    "\tprint('*'* 20)\n",
    "\tprint(f'PCA {i} components')\n",
    "\tpca = PCA(n_components=i).fit(X)\n",
    "\tprint('Random forest')\n",
    "\tmodel_prediction(RandomForestClassifier(max_depth=int(0.4 * i), n_estimators = 500, min_samples_split=10, max_features=None), pca.transform(X), y, pca.transform(X_val), y_val)\n",
    "\t# print('KNN, N=5')\n",
    "\t# model_prediction(KNeighborsClassifier(n_neighbors=5), pca.transform(X), y, pca.transform(X_val), y_val)\n",
    "\tprint('*'* 20)\n",
    "\tprint('\\n\\n')"
   ]
  }
 ],
 "metadata": {
  "kernelspec": {
   "display_name": "Python 3",
   "language": "python",
   "name": "python3"
  },
  "language_info": {
   "codemirror_mode": {
    "name": "ipython",
    "version": 3
   },
   "file_extension": ".py",
   "mimetype": "text/x-python",
   "name": "python",
   "nbconvert_exporter": "python",
   "pygments_lexer": "ipython3",
   "version": "3.10.2"
  },
  "orig_nbformat": 4
 },
 "nbformat": 4,
 "nbformat_minor": 2
}
