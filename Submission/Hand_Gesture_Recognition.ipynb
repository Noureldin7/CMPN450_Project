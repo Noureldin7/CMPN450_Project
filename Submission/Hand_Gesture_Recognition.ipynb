{
 "cells": [
  {
   "attachments": {},
   "cell_type": "markdown",
   "metadata": {},
   "source": [
    "### Install Dependencies"
   ]
  },
  {
   "cell_type": "code",
   "execution_count": null,
   "metadata": {},
   "outputs": [],
   "source": [
    "# %pip install pandas\n",
    "# %pip install numpy\n",
    "# %pip install scikit-learn\n",
    "# %pip install scikit-image\n",
    "# %pip install opencv-python\n",
    "# %pip install Pillow"
   ]
  },
  {
   "attachments": {},
   "cell_type": "markdown",
   "metadata": {},
   "source": [
    "### Includes"
   ]
  },
  {
   "cell_type": "code",
   "execution_count": null,
   "metadata": {},
   "outputs": [],
   "source": [
    "import time\n",
    "import pickle\n",
    "import glob\n",
    "import cv2\n",
    "import numpy as np\n",
    "from sklearn.decomposition import PCA\n",
    "from sklearn.svm import SVC\n",
    "from skimage.morphology import convex_hull_image\n",
    "from sklearn.metrics import accuracy_score\n",
    "from PIL import Image"
   ]
  },
  {
   "attachments": {},
   "cell_type": "markdown",
   "metadata": {},
   "source": [
    "### Utility function to compress images (Run this cell)\n",
    "- Please note that the images should have an aspect ratio of 16:9 (width:height) and of size > (500 * 281)."
   ]
  },
  {
   "cell_type": "code",
   "execution_count": null,
   "metadata": {},
   "outputs": [],
   "source": [
    "# def compress_image(path: str):\n",
    "#     \"\"\"\n",
    "#     Compresses the image from given path to dimensions less than 500x500\n",
    "#     \"\"\"\n",
    "#     im = Image.open(path)\n",
    "#     im.thumbnail((500, 500), Image.LANCZOS)\n",
    "#     return cv2.cvtColor(np.array(im), cv2.COLOR_RGB2BGR)\n",
    "\n",
    "def compress_image(path: str):\n",
    "    \"\"\"\n",
    "    Compresses the image from given path to dimensions less than 500x500\n",
    "    \"\"\"\n",
    "    im = cv2.imread(path)\n",
    "    im = cv2.resize(im, (500, 281))\n",
    "    return im\n",
    "\n",
    "# im = compress_image(\"../../dataset/men/3/3_men (102).JPG\")\n",
    "# # save image as img1.jpg\n",
    "# cv2.imwrite(\"img1.jpg\", im)"
   ]
  },
  {
   "attachments": {},
   "cell_type": "markdown",
   "metadata": {},
   "source": [
    "### Utility functions to read the dataset and perform preprocessing (Run this cell)\n",
    "- Images should be in jpg format in the path specified to the function \"read_images\"."
   ]
  },
  {
   "cell_type": "code",
   "execution_count": null,
   "metadata": {},
   "outputs": [],
   "source": [
    "def read_image(path: str) -> np.ndarray:\n",
    "    \"\"\"\n",
    "    Reads an image from the given path, compresses it and returns a numpy array of the image\n",
    "    \"\"\"\n",
    "    return compress_image(path).reshape(-1)\n",
    "\n",
    "\n",
    "def get_jpgs(directory: str) -> list[str]:\n",
    "    \"\"\"\n",
    "    Lists all jpgs in the given directory sorted by their name\n",
    "    \"\"\"\n",
    "    return sorted(glob.glob(directory + '*.jpg'), key=lambda f: (int(''.join(filter(str.isdigit, f)) or 0), f))\n",
    "\n",
    "\n",
    "def read_images(directory: str) -> np.ndarray:\n",
    "    \"\"\"\n",
    "    Reads all images in the given directory and returns a numpy array of the images\n",
    "    \"\"\"\n",
    "    jpgs = get_jpgs(directory)\n",
    "    array = np.empty(dtype=np.float32, shape = (len(jpgs), 281*500*3))\n",
    "    for index, jpg in enumerate(jpgs):\n",
    "        array[index] = read_image(jpg)\n",
    "    return array\n",
    "\n",
    "\n",
    "def preprocess(img: np.ndarray) -> np.ndarray:\n",
    "    \"\"\"\n",
    "    Applies preprocessing to the image and returns a numpy array of the preprocessed image\n",
    "    \"\"\"\n",
    "    img = np.array(np.round(img), dtype=np.uint8).reshape((281, 500, 3))\n",
    "    img = cv2.cvtColor(img, cv2.COLOR_BGR2YCrCb)\n",
    "    avg_luma = np.mean(img[:, :, 0])\n",
    "    if avg_luma > 196:\n",
    "        img = cv2.inRange(img, (0, 133, 77), (255, 163, 140))\n",
    "    else:\n",
    "        img = cv2.inRange(img, (0, 137, 77), (255, 163, 140))\n",
    "    blur = cv2.medianBlur(img, 5)\n",
    "    kernel = cv2.getStructuringElement(cv2.MORPH_ELLIPSE, (8, 8))\n",
    "    img_filtered = cv2.dilate(blur, kernel)\n",
    "    ctrs, _ = cv2.findContours(img, cv2.RETR_EXTERNAL, cv2.CHAIN_APPROX_NONE)\n",
    "    max_ctr = max(ctrs, key=cv2.contourArea)\n",
    "    hullpts = np.zeros((40, 2))\n",
    "    hull = cv2.convexHull(max_ctr)\n",
    "    contour = np.zeros(img.shape)\n",
    "    cv2.drawContours(contour, hull, -1, (255, 255, 255), 1)\n",
    "    contour = convex_hull_image(contour)\n",
    "    contour = np.asarray(hull, dtype=int)\n",
    "    contour = np.sum(contour)\n",
    "    hull = hull.reshape(-1, 2)\n",
    "    hullpts[:hull.shape[0], :] = hull[:40, :]\n",
    "    img_filtered = np.asarray(img_filtered, dtype=np.uint8)\n",
    "    return np.concatenate((hullpts[:, 0], hullpts[:, 1], [contour], img_filtered.reshape(-1)), dtype=np.float32)\n"
   ]
  },
  {
   "attachments": {},
   "cell_type": "markdown",
   "metadata": {},
   "source": [
    "### Utility functions for reading and using the model (Run this cell)"
   ]
  },
  {
   "cell_type": "code",
   "execution_count": null,
   "metadata": {},
   "outputs": [],
   "source": [
    "def read_model(classifier_path: str, extractor_path: str):\n",
    "    \"\"\"\n",
    "    Takes the path of pkl files and returns the classifier and the feature extractor\n",
    "    \"\"\"\n",
    "    return pickle.load(open(classifier_path, \"rb\")), pickle.load(open(extractor_path, \"rb\"))\n",
    "\n",
    "def model_prediction(model : SVC, extractor : PCA, x_test : np.ndarray, y_test = None):\n",
    "    \"\"\"\n",
    "    Takes the model, feature extractor and the test data\\n\n",
    "    Prints the accuracy if the labels are given\\n\n",
    "    Writes the predictions to results.txt and the time taken to time.txt\n",
    "    \"\"\"\n",
    "    predictions = np.empty((x_test.shape[0]), dtype=np.int8)\n",
    "    with open(\"results.txt\", \"w\") as result_file:\n",
    "        with open(\"time.txt\", \"w\") as time_file:\n",
    "            for x_sample in x_test:\n",
    "                start = time.time()\n",
    "                preprocessed = preprocess(x_sample)\n",
    "                extracted_features = extractor.transform(preprocessed.reshape(1, -1))\n",
    "                prediction = model.predict(extracted_features)\n",
    "                time_file.write(str(time.time() - start) + \"\\n\")\n",
    "                result_file.write(str(round(prediction[0])) + \"\\n\")\n",
    "                predictions = np.append(predictions, prediction)\n",
    "    if y_test is not None:\n",
    "        acc = accuracy_score(y_test, predictions)\n",
    "        print(\"Total Accuracy: \", acc)\n"
   ]
  },
  {
   "attachments": {},
   "cell_type": "markdown",
   "metadata": {},
   "source": [
    "### Pipeline (Run this cell)\n",
    "- Give the dataset path to the function \"read_images\" and the model path to the function \"read_model\" if changed."
   ]
  },
  {
   "cell_type": "code",
   "execution_count": null,
   "metadata": {},
   "outputs": [],
   "source": [
    "X = read_images('data/')\n",
    "classifier, extractor = read_model(\"classifier.pkl\",\"extractor.pkl\")\n",
    "model_prediction(classifier, extractor, X)"
   ]
  },
  {
   "attachments": {},
   "cell_type": "markdown",
   "metadata": {},
   "source": [
    "### Appendix (Don't run)\n",
    "Contains implementation details of the model"
   ]
  },
  {
   "cell_type": "code",
   "execution_count": null,
   "metadata": {},
   "outputs": [],
   "source": [
    "# feature_extractor = PCA(n_components=30)\n",
    "# classifier = SVC(C=10)"
   ]
  }
 ],
 "metadata": {
  "kernelspec": {
   "display_name": "Python 3",
   "language": "python",
   "name": "python3"
  },
  "language_info": {
   "codemirror_mode": {
    "name": "ipython",
    "version": 3
   },
   "file_extension": ".py",
   "mimetype": "text/x-python",
   "name": "python",
   "nbconvert_exporter": "python",
   "pygments_lexer": "ipython3",
   "version": "3.10.2"
  },
  "orig_nbformat": 4
 },
 "nbformat": 4,
 "nbformat_minor": 2
}
