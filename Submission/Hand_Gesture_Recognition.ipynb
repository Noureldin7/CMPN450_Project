{
 "cells": [
  {
   "attachments": {},
   "cell_type": "markdown",
   "metadata": {},
   "source": [
    "### Install Dependencies"
   ]
  },
  {
   "cell_type": "code",
   "execution_count": 8,
   "metadata": {},
   "outputs": [],
   "source": [
    "# %pip install pandas\n",
    "# %pip install numpy\n",
    "# %pip install scikit-learn\n",
    "# %pip install scikit-image\n",
    "# %pip install opencv-python\n",
    "# %pip install Pillow"
   ]
  },
  {
   "attachments": {},
   "cell_type": "markdown",
   "metadata": {},
   "source": [
    "### Includes"
   ]
  },
  {
   "cell_type": "code",
   "execution_count": 9,
   "metadata": {},
   "outputs": [],
   "source": [
    "import cv2\n",
    "import pandas as pd\n",
    "import numpy as np\n",
    "import glob\n",
    "import pickle\n",
    "from sklearn.model_selection import train_test_split\n",
    "from sklearn.decomposition import PCA\n",
    "from sklearn import svm\n",
    "from skimage.morphology import convex_hull_image\n",
    "from sklearn.metrics import confusion_matrix\n",
    "from sklearn.metrics import accuracy_score\n",
    "from os import listdir\n",
    "from PIL import Image\n",
    "\n"
   ]
  },
  {
   "attachments": {},
   "cell_type": "markdown",
   "metadata": {},
   "source": [
    "### Compress images"
   ]
  },
  {
   "cell_type": "code",
   "execution_count": 10,
   "metadata": {},
   "outputs": [],
   "source": [
    "def compress_image(path : str):\n",
    "\tim = Image.open(path)\n",
    "\tim.thumbnail((500, 500), Image.LANCZOS)\n",
    "\treturn cv2.cvtColor(np.array(im),cv2.COLOR_RGB2BGR)"
   ]
  },
  {
   "attachments": {},
   "cell_type": "markdown",
   "metadata": {},
   "source": [
    "### Read dataset"
   ]
  },
  {
   "cell_type": "code",
   "execution_count": 11,
   "metadata": {},
   "outputs": [],
   "source": [
    "def read_image(path: str) -> np.array:\n",
    "\treturn compress_image(path).reshape(-1)\n",
    "\n",
    "def read_images(directory : str) -> np.array:\n",
    "\tarray = np.array([], dtype=np.int8).reshape(0,281*500*3+1)\n",
    "\tfor num in range(0,6):\n",
    "\t\tmen_dir = directory + f'men/{num}/'\n",
    "\t\twomen_dir = directory + f'Women/{num}/'\n",
    "\t\tnew_men = np.array([np.concatenate((np.asarray([num]), read_image(men_dir + file)), axis=0) for file in listdir(men_dir)])\n",
    "\t\tnew_women = np.array([np.concatenate((np.asarray([num]), read_image(women_dir + file)), axis=0) for file in listdir(women_dir)])\n",
    "\t\tarray = np.concatenate((array, new_men, new_women), axis=0)\n",
    "\treturn array\n",
    "\n",
    "def preprocess(img) -> np.array:\n",
    "\timg = img.reshape(281,500,3)\n",
    "\timg = cv2.cvtColor(img,cv2.COLOR_BGR2YCrCb)\n",
    "\tavg_luma = np.mean(img[:,:,0])\n",
    "\tif avg_luma>196:\n",
    "\t\timg = cv2.inRange(img,(0,133,77),(255,163,140))\n",
    "\telse:\n",
    "\t\timg = cv2.inRange(img,(0,137,77),(255,163,140))\n",
    "\tblur = cv2.medianBlur(img, 5)\n",
    "\tkernel = cv2.getStructuringElement(cv2.MORPH_ELLIPSE, (8, 8))\n",
    "\timg_filtered = cv2.dilate(blur, kernel)\n",
    "\tctrs, _ = cv2.findContours(img,cv2.RETR_EXTERNAL,cv2.CHAIN_APPROX_NONE)\n",
    "\tmax_ctr = max(ctrs,key=cv2.contourArea)\n",
    "\thullpts = np.zeros((40,2))\n",
    "\thull = cv2.convexHull(max_ctr)\n",
    "\tcontour = np.zeros(img.shape)\n",
    "\t\n",
    "\tcv2.drawContours(contour,hull,-1,(255,255,255),1)\n",
    "\tcontour = convex_hull_image(contour)\n",
    "\tcontour = np.asarray(hull,dtype=int)\n",
    "\tcontour = np.sum(contour)\n",
    "\thull = hull.reshape(-1,2)\n",
    "\thullpts[:hull.shape[0],:] = hull[:40,:]\n",
    "\treturn np.concatenate((hullpts[:,0],hullpts[:,1],[contour],img_filtered.reshape(-1)))\n",
    "\n",
    "def preprocessing(imgs) -> np.array:\n",
    "\tarray = np.zeros((imgs.shape[0],140582), dtype=np.int8)\n",
    "\tarray[:,0]=imgs[:,0]\n",
    "\tvec_preprocess = np.vectorize(preprocess)\n",
    "\tarray[:,1:] = vec_preprocess(imgs[:,1:])\n",
    "\treturn array"
   ]
  },
  {
   "attachments": {},
   "cell_type": "markdown",
   "metadata": {},
   "source": [
    "### Model"
   ]
  },
  {
   "cell_type": "code",
   "execution_count": 12,
   "metadata": {},
   "outputs": [],
   "source": [
    "def read_model(classifier_path, extractor_path):\n",
    "\treturn pickle.load(open(classifier_path, \"rb\")), pickle.load(open( extractor_path, \"rb\"))"
   ]
  },
  {
   "cell_type": "code",
   "execution_count": 13,
   "metadata": {},
   "outputs": [],
   "source": [
    "def model_prediction(model, x_test, y_test):\n",
    "\tmodel.fit(x_test, y_test)\n",
    "\tprediction_test = np.array(np.floor(model.predict(x_test)), dtype=np.int8)\n",
    "\tacc_test = accuracy_score(y_test, prediction_test)\n",
    "\tprint(\"Accuracy Score Test: \", acc_test)"
   ]
  },
  {
   "attachments": {},
   "cell_type": "markdown",
   "metadata": {},
   "source": [
    "### Pipeline"
   ]
  },
  {
   "cell_type": "code",
   "execution_count": 7,
   "metadata": {},
   "outputs": [
    {
     "name": "stdout",
     "output_type": "stream",
     "text": [
      "Accuracy Score Test:  0.9807797913234486\n"
     ]
    }
   ],
   "source": [
    "dataset = read_images('../reduced_dataset/')\n",
    "dataset = preprocessing(dataset)\n",
    "X = dataset[:, 1:]\n",
    "Y = dataset[:, 0]\n",
    "classifier, extractor = read_model(\"classifier.pkl\",\"extractor.pkl\")\n",
    "model_prediction(classifier, extractor.transform(X), Y)"
   ]
  }
 ],
 "metadata": {
  "kernelspec": {
   "display_name": "Python 3",
   "language": "python",
   "name": "python3"
  },
  "language_info": {
   "codemirror_mode": {
    "name": "ipython",
    "version": 3
   },
   "file_extension": ".py",
   "mimetype": "text/x-python",
   "name": "python",
   "nbconvert_exporter": "python",
   "pygments_lexer": "ipython3",
   "version": "3.10.7"
  },
  "orig_nbformat": 4
 },
 "nbformat": 4,
 "nbformat_minor": 2
}
