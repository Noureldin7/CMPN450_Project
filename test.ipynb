{
 "cells": [
  {
   "cell_type": "code",
   "execution_count": 2,
   "metadata": {},
   "outputs": [],
   "source": [
    "import cv2\n",
    "import numpy as np\n",
    "import math\n",
    "import glob\n",
    "from matplotlib import pyplot as plt\n",
    "from IPython.display import Image, display"
   ]
  },
  {
   "cell_type": "code",
   "execution_count": 89,
   "metadata": {},
   "outputs": [],
   "source": [
    "for filename in sorted(glob.glob('data_set/men/0/*.JPG')):\n",
    "    img = cv2.imread(filename) \n",
    "    img = cv2.cvtColor(img,cv2.COLOR_BGR2YCrCb)\n",
    "    img_masked = cv2.inRange(img,(0,137,77),(255,163,120))\n",
    "    cv2.imwrite(\"masks/\"+filename,img_masked)\n",
    "# plt.imshow(img_masked)\n",
    "# np.array((0,137,77),dtype=np.uint8)\n",
    "# img_masked"
   ]
  },
  {
   "cell_type": "code",
   "execution_count": 82,
   "metadata": {},
   "outputs": [
    {
     "data": {
      "text/plain": [
       "True"
      ]
     },
     "execution_count": 82,
     "metadata": {},
     "output_type": "execute_result"
    }
   ],
   "source": [
    "img = cv2.cvtColor(cv2.imread(\"data_set/men/3/3_men (5).JPG\"),cv2.COLOR_BGR2YCrCb)\n",
    "img_masked = cv2.inRange(img,(0,137,77),(255,163,140))\n",
    "cv2.imwrite(\"masked.JPG\",img_masked)\n",
    "# np.array((0,137,77),dtype=np.uint8)\n",
    "# img_masked\n"
   ]
  },
  {
   "cell_type": "code",
   "execution_count": null,
   "metadata": {},
   "outputs": [],
   "source": [
    "import cv2 as cv\n",
    "import numpy as np\n",
    "from matplotlib import pyplot as plt\n",
    "img = cv.imread('data_set/men/3/3_men (5).JPG', cv.IMREAD_GRAYSCALE)\n",
    "assert img is not None, \"file could not be read, check with os.path.exists()\"\n",
    "# global thresholding\n",
    "ret1,th1 = cv.threshold(img,127,255,cv.THRESH_BINARY)\n",
    "# Otsu's thresholding\n",
    "ret2,th2 = cv.threshold(img,0,255,cv.THRESH_BINARY+cv.THRESH_OTSU)\n",
    "# Otsu's thresholding after Gaussian filtering\n",
    "blur = cv.GaussianBlur(img,(5,5),0)\n",
    "ret3,th3 = cv.threshold(blur,0,255,cv.THRESH_BINARY+cv.THRESH_OTSU)\n",
    "# plot all the images and their histograms\n",
    "images = [img, 0, th1,\n",
    "          img, 0, th2,\n",
    "          blur, 0, th3]\n",
    "titles = ['Original Noisy Image','Histogram','Global Thresholding (v=127)',\n",
    "          'Original Noisy Image','Histogram',\"Otsu's Thresholding\",\n",
    "          'Gaussian filtered Image','Histogram',\"Otsu's Thresholding\"]\n",
    "for i in range(3):\n",
    "    plt.subplot(3,3,i*3+1),plt.imshow(images[i*3],'gray')\n",
    "    plt.title(titles[i*3]), plt.xticks([]), plt.yticks([])\n",
    "    plt.subplot(3,3,i*3+2),plt.hist(images[i*3].ravel(),256)\n",
    "    plt.title(titles[i*3+1]), plt.xticks([]), plt.yticks([])\n",
    "    plt.subplot(3,3,i*3+3),plt.imshow(images[i*3+2],'gray')\n",
    "    plt.title(titles[i*3+2]), plt.xticks([]), plt.yticks([])\n",
    "plt.show()"
   ]
  },
  {
   "cell_type": "code",
   "execution_count": 4,
   "metadata": {},
   "outputs": [
    {
     "data": {
      "text/plain": [
       "True"
      ]
     },
     "execution_count": 4,
     "metadata": {},
     "output_type": "execute_result"
    }
   ],
   "source": [
    "import cv2\n",
    "import mediapipe as mp\n",
    "import time\n",
    "\n",
    "# frameWidth = 1280\n",
    "# frameHeight = 720\n",
    "# cap = cv2.VideoCapture(0)\n",
    "# cap.set(3, frameWidth)\n",
    "# cap.set(4, frameHeight)\n",
    "mpHands=mp.solutions.hands\n",
    "hands=mpHands.Hands()\n",
    "mpDraw = mp.solutions.drawing_utils\n",
    "\n",
    "# pTime = 0\n",
    "# cTime = 0\n",
    "filename = 'data_set/men/3/3_men (5).JPG'\n",
    "img = cv2.imread(filename)\n",
    "img= cv2.flip(img,1)\n",
    "img_b = np.empty(img.shape)\n",
    "img_b.fill(0)\n",
    "imgRGB = cv2.cvtColor(img, cv2.COLOR_BGR2RGB)\n",
    "results = hands.process(imgRGB)\n",
    "#print(results.multi_hand_landmarks)\n",
    "if results.multi_hand_landmarks:\n",
    "    for handLms in results.multi_hand_landmarks: \n",
    "    #handLMs are 21 points. so we need conection too-->mpHands.HAND_CONNECTIONS\n",
    "        for id, lm in enumerate(handLms.landmark):\n",
    "            #print(id, lm)\n",
    "            #lm = x,y cordinate of each landmark in float numbers. lm.x, lm.y methods\n",
    "            #So, need to covert in integer\n",
    "            h, w, c =img.shape\n",
    "            cx, cy = int(lm.x * w), int(lm.y * h)\n",
    "            #print(id, cx, cy)\n",
    "            # if id == 4: #(To draw 4th point)\n",
    "            #cv2.circle(img, (cx, cy), 15, (255, 0, 255), cv2.FILLED)\n",
    "        mpDraw.draw_landmarks(img_b, handLms, mpHands.HAND_CONNECTIONS) #drawing points and lines(=handconections)\n",
    "\n",
    "\n",
    "cv2.imwrite('masked.JPG', img_b)"
   ]
  }
 ],
 "metadata": {
  "kernelspec": {
   "display_name": "Python 3",
   "language": "python",
   "name": "python3"
  },
  "language_info": {
   "codemirror_mode": {
    "name": "ipython",
    "version": 3
   },
   "file_extension": ".py",
   "mimetype": "text/x-python",
   "name": "python",
   "nbconvert_exporter": "python",
   "pygments_lexer": "ipython3",
   "version": "3.10.7"
  },
  "orig_nbformat": 4
 },
 "nbformat": 4,
 "nbformat_minor": 2
}
